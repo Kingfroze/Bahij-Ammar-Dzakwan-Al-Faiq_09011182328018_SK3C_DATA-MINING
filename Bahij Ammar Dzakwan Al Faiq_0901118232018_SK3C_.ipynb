{
 "cells": [
  {
   "cell_type": "code",
   "execution_count": null,
   "metadata": {},
   "outputs": [],
   "source": [
    "import pandas as pd\n",
    "import numpy as np\n",
    "import matplotlib.pyplot as plt\n",
    "import seaborn as sns\n",
    "\n",
    "df = pd.read_csv(r\"D:\\Semester 3\\heart_disease_uci.csv\")\n",
    "\n",
    "print (df.head())\n",
    "print (df.tail())"
   ]
  },
  {
   "cell_type": "code",
   "execution_count": null,
   "metadata": {},
   "outputs": [],
   "source": [
    "df.info()"
   ]
  },
  {
   "cell_type": "code",
   "execution_count": null,
   "metadata": {},
   "outputs": [],
   "source": [
    "df.isnull().sum()"
   ]
  },
  {
   "cell_type": "code",
   "execution_count": null,
   "metadata": {},
   "outputs": [],
   "source": [
    "df.describe()"
   ]
  },
  {
   "cell_type": "code",
   "execution_count": null,
   "metadata": {},
   "outputs": [],
   "source": [
    "mean_values = df.mean(numeric_only=True)\n",
    "print(mean_values)"
   ]
  },
  {
   "cell_type": "code",
   "execution_count": null,
   "metadata": {},
   "outputs": [],
   "source": [
    "mode_values = df.mode(numeric_only=True)\n",
    "print(mode_values)"
   ]
  },
  {
   "cell_type": "code",
   "execution_count": null,
   "metadata": {},
   "outputs": [],
   "source": [
    "stdv_values = df.std(numeric_only=True)\n",
    "print(stdv_values)"
   ]
  },
  {
   "cell_type": "code",
   "execution_count": null,
   "metadata": {},
   "outputs": [],
   "source": [
    "var_values = df.var(numeric_only=True)\n",
    "print(var_values)"
   ]
  },
  {
   "cell_type": "code",
   "execution_count": null,
   "metadata": {},
   "outputs": [],
   "source": [
    "skew_values = df.skew(numeric_only=True)\n",
    "print(skew_values)"
   ]
  },
  {
   "cell_type": "code",
   "execution_count": null,
   "metadata": {},
   "outputs": [],
   "source": [
    "kurt_values = df.kurt(numeric_only=True)\n",
    "print(kurt_values)"
   ]
  },
  {
   "cell_type": "code",
   "execution_count": null,
   "metadata": {},
   "outputs": [],
   "source": [
    "numeric_columns = df.select_dtypes(include = [np.number]).columns\n",
    "correlation_matrix = df [numeric_columns].corr()\n",
    "\n",
    "\n",
    "plt.figure(figsize=(12,10))\n",
    "sns.heatmap (correlation_matrix, annot = True,cmap='coolwarm', vmin=-1, vmax=1)\n",
    "plt.title('Correlation Matrix of Numeric Features')\n",
    "plt.show()"
   ]
  },
  {
   "cell_type": "code",
   "execution_count": null,
   "metadata": {},
   "outputs": [],
   "source": [
    "df.hist (bins= 30, figsize=(20,15))\n",
    "plt.show()"
   ]
  },
  {
   "cell_type": "code",
   "execution_count": null,
   "metadata": {},
   "outputs": [],
   "source": [
    "df.boxplot(figsize=(15, 10))\n",
    "plt.tight_layout()\n",
    "plt.show()"
   ]
  },
  {
   "cell_type": "code",
   "execution_count": null,
   "metadata": {},
   "outputs": [],
   "source": [
    "target_column = 'num'\n",
    "visualized_feature = ['age', 'trestbps', 'chol', 'thalch', 'oldpeak']\n",
    "\n",
    "sns.pairplot(df[visualized_feature + [target_column]], hue=target_column)\n",
    "plt.suptitle('Pair Plot untuk Fitur Utama', y=1.02)\n",
    "plt.show()\n",
    "\n",
    "fig, axes = plt.subplots(2, 2, figsize=(15, 15))\n",
    "axes = axes.ravel()\n",
    "\n",
    "for i, feature in enumerate(visualized_feature[:4]):\n",
    "    sns.scatterplot(data=df, x=feature, y='thalch', hue=target_column, ax=axes[i])\n",
    "    axes[i].set_title(f'{feature} vs thalch')\n",
    "\n",
    "plt.tight_layout()\n",
    "plt.show()"
   ]
  },
  {
   "cell_type": "code",
   "execution_count": null,
   "metadata": {},
   "outputs": [],
   "source": [
    "plt.figure(figsize=(12, 6))\n",
    "sns.boxplot(data=df)\n",
    "plt.xticks(rotation=90)\n",
    "plt.show()"
   ]
  },
  {
   "cell_type": "markdown",
   "metadata": {},
   "source": [
    "\n",
    "# EKSPLORASI DATA DAN STATISTIK RINGKASAN\n",
    "\n",
    "Dalam tugas ini, Anda diminta untuk melakukan eksplorasi data dan menghitung berbagai statistik deskriptif guna memahami karakteristik dataset yang diberikan. Alat yang digunakan meliputi Python beserta beberapa pustaka seperti Pandas, NumPy, Matplotlib, dan Seaborn, yang memudahkan proses analisis data secara mendalam.\n",
    "\n",
    "Fokus utama dari tugas ini adalah menganalisis dataset penyakit jantung UCI. Langkah pertama yang dilakukan adalah memeriksa statistik dasar seperti mean, median, mode, standar deviasi, variansi, skewness, dan kurtosis pada kolom-kolom numerik dalam dataset. Langkah ini bertujuan untuk memberikan gambaran umum mengenai distribusi dan bentuk data. \n",
    "\n",
    "Setelah itu, berbagai teknik visualisasi digunakan, termasuk heatmap, histogram, boxplot, pair plot, dan scatter plot, untuk mengamati distribusi data serta hubungan antar variabel dalam dataset. Histogram dan boxplot membantu memahami distribusi data dan mendeteksi outlier, yang penting untuk meningkatkan akurasi model prediksi. Pair plot digunakan untuk mengevaluasi hubungan antara beberapa fitur kunci dengan variabel target, yaitu 'num'. Scatter plot kemudian digunakan untuk mengidentifikasi pola di antara fitur-fitur seperti 'age', 'trestbps', 'chol', dan 'oldpeak' terhadap 'thalch'.\n",
    "\n",
    "Agar model lebih akurat, penting untuk mempertimbangkan transformasi data untuk mengatasi distribusi yang tidak normal dan menangani outliers, serta memanfaatkan variabel yang menunjukkan korelasi kuat sebagai fitur utama dalam model. Dengan cara ini, pemahaman mendalam tentang pola dan korelasi dalam dataset dapat diperoleh, yang sangat penting untuk analisis lanjutan.\n"
   ]
  }
 ],
 "metadata": {
  "kernelspec": {
   "display_name": "Python 3",
   "language": "python",
   "name": "python3"
  },
  "language_info": {
   "codemirror_mode": {
    "name": "ipython",
    "version": 3
   },
   "file_extension": ".py",
   "mimetype": "text/x-python",
   "name": "python",
   "nbconvert_exporter": "python",
   "pygments_lexer": "ipython3",
   "version": "3.11.9"
  }
 },
 "nbformat": 4,
 "nbformat_minor": 2
}
